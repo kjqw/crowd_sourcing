{
 "cells": [
  {
   "cell_type": "code",
   "execution_count": 1,
   "metadata": {},
   "outputs": [],
   "source": [
    "from pathlib import Path\n",
    "\n",
    "import pandas as pd"
   ]
  },
  {
   "cell_type": "code",
   "execution_count": 2,
   "metadata": {},
   "outputs": [],
   "source": [
    "data_path = Path.cwd() / \"data\"\n",
    "\n",
    "# データ保存用のディレクトリを作成\n",
    "data_path.mkdir(exist_ok=True)"
   ]
  },
  {
   "cell_type": "code",
   "execution_count": 3,
   "metadata": {},
   "outputs": [],
   "source": [
    "def preprocess_tsv(input_file: str, output_file: str) -> None:\n",
    "    \"\"\"\n",
    "    指定されたTSVファイルを分類タスクの教師データに変換します。\n",
    "\n",
    "    Parameters\n",
    "    ----------\n",
    "    input_file : str\n",
    "        入力TSVファイルのパス\n",
    "    output_file : str\n",
    "        出力TSVファイルのパス\n",
    "    \"\"\"\n",
    "\n",
    "    # TSVファイルを読み込み\n",
    "    df = pd.read_csv(input_file, delimiter=\"\\t\")\n",
    "\n",
    "    # 新しいデータフレームを作成\n",
    "    processed_data = []\n",
    "\n",
    "    for index, row in df.iterrows():\n",
    "        # 設問2と設問3 -> ラベル, 満足(1), 文章, 会員ID\n",
    "        processed_data.append([row[\"設問2\"], 1, row[\"設問3\"], row[\"会員ID\"]])\n",
    "        # 設問4と設問5 -> ラベル, 満足(1), 文章, 会員ID\n",
    "        processed_data.append([row[\"設問4\"], 1, row[\"設問5\"], row[\"会員ID\"]])\n",
    "        # 設問6と設問7 -> ラベル, 不満(-1), 文章, 会員ID\n",
    "        processed_data.append([row[\"設問6\"], -1, row[\"設問7\"], row[\"会員ID\"]])\n",
    "        # 設問8と設問9 -> ラベル, 不満(-1), 文章, 会員ID\n",
    "        processed_data.append([row[\"設問8\"], -1, row[\"設問9\"], row[\"会員ID\"]])\n",
    "\n",
    "    # データフレームに変換\n",
    "    processed_df = pd.DataFrame(\n",
    "        processed_data, columns=[\"ラベル\", \"満足度\", \"文章\", \"会員ID\"]\n",
    "    )\n",
    "\n",
    "    # 欠損値の削除\n",
    "    processed_df.dropna(inplace=True)\n",
    "\n",
    "    # TSVファイルとして保存\n",
    "    processed_df.to_csv(output_file, sep=\"\\t\", index=False)"
   ]
  },
  {
   "cell_type": "code",
   "execution_count": 17,
   "metadata": {},
   "outputs": [],
   "source": [
    "input_tsv_dir = \"/workspace/crowd_sourcing/crowdsourcing/20240217_地域幸福度/【神奈川県民限定】地域幸福度についてのアンケート/3589290434_row.tsv\"  # 入力のtsvファイルのパスを指定\n",
    "output_tsv_path = data_path / \"data_without_nan.tsv\"  # 出力のtsvファイルのパスを指定\n",
    "preprocess_tsv(input_tsv_dir, output_tsv_path.__str__())  # データの前処理を実行"
   ]
  },
  {
   "cell_type": "code",
   "execution_count": 5,
   "metadata": {},
   "outputs": [],
   "source": [
    "def extract_long_text(input_file: str, output_file: str, min_length: int) -> None:\n",
    "    \"\"\"\n",
    "    指定されたTSVファイルから特定の長さ以上の文章を抽出します。\n",
    "\n",
    "    Parameters\n",
    "    ----------\n",
    "    input_file : str\n",
    "        入力TSVファイルのパス\n",
    "    output_file : str\n",
    "        出力TSVファイルのパス\n",
    "    min_length : int\n",
    "        抽出する文章の最小の長さ\n",
    "    \"\"\"\n",
    "\n",
    "    # TSVファイルを読み込み\n",
    "    df = pd.read_csv(input_file, delimiter=\"\\t\")\n",
    "\n",
    "    # 文字数が最小値以上の文章を抽出\n",
    "    long_texts = df[df[\"文章\"].str.len() >= min_length]\n",
    "\n",
    "    # TSVファイルとして保存\n",
    "    long_texts.to_csv(output_file, sep=\"\\t\", index=False)"
   ]
  },
  {
   "cell_type": "code",
   "execution_count": 18,
   "metadata": {},
   "outputs": [],
   "source": [
    "input_tsv_path = data_path / \"data_without_nan.tsv\"  # 入力のtsvファイルのパスを指定\n",
    "output_tsv_path = data_path / \"data_long_texts.tsv\"  # 出力のtsvファイルのパスを指定\n",
    "min_length = 20  # 抽出する文章の最小の長さを指定\n",
    "extract_long_text(\n",
    "    input_tsv_path.__str__(), output_tsv_path.__str__(), min_length\n",
    ")  # 長い文章の抽出を実行"
   ]
  },
  {
   "cell_type": "code",
   "execution_count": null,
   "metadata": {},
   "outputs": [],
   "source": []
  }
 ],
 "metadata": {
  "kernelspec": {
   "display_name": "transformers",
   "language": "python",
   "name": "python3"
  },
  "language_info": {
   "codemirror_mode": {
    "name": "ipython",
    "version": 3
   },
   "file_extension": ".py",
   "mimetype": "text/x-python",
   "name": "python",
   "nbconvert_exporter": "python",
   "pygments_lexer": "ipython3",
   "version": "3.12.3"
  }
 },
 "nbformat": 4,
 "nbformat_minor": 2
}
