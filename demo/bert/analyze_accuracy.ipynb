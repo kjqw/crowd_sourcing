{
 "cells": [
  {
   "cell_type": "code",
   "execution_count": null,
   "metadata": {},
   "outputs": [],
   "source": [
    "import pickle\n",
    "from collections import Counter\n",
    "from pathlib import Path\n",
    "\n",
    "import japanize_matplotlib\n",
    "import matplotlib.pyplot as plt\n",
    "import pandas as pd\n",
    "import torch\n",
    "from sklearn.metrics import precision_recall_fscore_support\n",
    "from sklearn.preprocessing import LabelEncoder\n",
    "from transformers import BertForSequenceClassification, BertTokenizer"
   ]
  },
  {
   "cell_type": "code",
   "execution_count": null,
   "metadata": {},
   "outputs": [],
   "source": [
    "# パスの管理\n",
    "data_path = Path(\"data\")\n",
    "\n",
    "df_compare_parmas = [\n",
    "    {\n",
    "        \"MODEL_NAME\": \"tohoku-nlp/bert-base-japanese-v3\",\n",
    "        \"min_length\": 10,\n",
    "        \"use_all_data_for_evaluation\": True,\n",
    "    },\n",
    "    {\n",
    "        \"MODEL_NAME\": \"tohoku-nlp/bert-base-japanese-v3\",\n",
    "        \"min_length\": 20,\n",
    "        \"use_all_data_for_evaluation\": True,\n",
    "    },\n",
    "    {\n",
    "        \"MODEL_NAME\": \"tohoku-nlp/bert-base-japanese-v3\",\n",
    "        \"min_length\": 10,\n",
    "        \"use_all_data_for_evaluation\": False,\n",
    "    },\n",
    "    {\n",
    "        \"MODEL_NAME\": \"tohoku-nlp/bert-base-japanese-v3\",\n",
    "        \"min_length\": 20,\n",
    "        \"use_all_data_for_evaluation\": False,\n",
    "    },\n",
    "]\n",
    "\n",
    "df_compares = []\n",
    "datas = []\n",
    "for df_compare_param in df_compare_parmas:\n",
    "    with open(\n",
    "        data_path\n",
    "        / f\"df_compare_{df_compare_param['MODEL_NAME'].split('/')[-1]}_TextMinLength{df_compare_param['min_length']}_{'All' if df_compare_param['use_all_data_for_evaluation'] else 'Test'}Data.pickle\",\n",
    "        \"rb\",\n",
    "    ) as f:\n",
    "        df_compare = pickle.load(f)\n",
    "    df_compares.append(df_compare)\n",
    "    datas.append(\n",
    "        pd.read_csv(\n",
    "            data_path / f\"data_long_texts_{df_compare_param['min_length']}.tsv\",\n",
    "            sep=\"\\t\",\n",
    "        )\n",
    "    )"
   ]
  },
  {
   "cell_type": "code",
   "execution_count": null,
   "metadata": {},
   "outputs": [],
   "source": [
    "df_compares[0]"
   ]
  },
  {
   "cell_type": "code",
   "execution_count": null,
   "metadata": {},
   "outputs": [],
   "source": [
    "for i in range(len(df_compares)):\n",
    "\n",
    "    df_compare = df_compares[i]\n",
    "\n",
    "    # ラベルのエンコード\n",
    "    label_encoder = LabelEncoder()\n",
    "    label_encoder.fit_transform(datas[i][\"ラベル\"])\n",
    "    num_labels = len(label_encoder.classes_)\n",
    "\n",
    "    # ラベルと予測ラベルのリストを取得\n",
    "    labels = df_compare[\"ラベル\"].tolist()\n",
    "    predicted_labels = df_compare[\"ラベル予測\"].tolist()\n",
    "\n",
    "    # ラベルの分布を確認\n",
    "    label_counter = Counter(labels)\n",
    "\n",
    "    # 各ラベルのF1スコアを計算\n",
    "    precision, recall, f1, _ = precision_recall_fscore_support(\n",
    "        labels, predicted_labels, average=None, labels=list(set(labels))\n",
    "    )\n",
    "\n",
    "    # 結果をDataFrameにまとめる\n",
    "    result = pd.DataFrame(\n",
    "        {\n",
    "            \"label\": list(set(labels)),\n",
    "            \"count\": [label_counter[i] for i in set(labels)],\n",
    "            \"Precision\": precision,\n",
    "            \"Recall\": recall,\n",
    "            \"f1\": f1,\n",
    "        }\n",
    "    )\n",
    "\n",
    "    macro_f1 = f1.mean()\n",
    "    weighted_f1 = (f1 * result[\"count\"]).sum() / result[\"count\"].sum()\n",
    "    print(f\"min_length: {df_compare_parmas[i]['min_length']}\")\n",
    "    print(f\"data count: {len(df_compare)}\")\n",
    "    print(f\"macro_f1: {macro_f1}\")\n",
    "    print(f\"weighted_f1: {weighted_f1}\")\n",
    "    print()\n",
    "\n",
    "# # 結果を表示\n",
    "# result.sort_values(\"f1\", ascending=False)"
   ]
  },
  {
   "cell_type": "code",
   "execution_count": null,
   "metadata": {},
   "outputs": [],
   "source": [
    "macro_f1 = f1.mean()\n",
    "weighted_f1 = (f1 * result[\"count\"]).sum() / result[\"count\"].sum()\n",
    "print(f\"macro_f1: {macro_f1}\")\n",
    "print(f\"weighted_f1: {weighted_f1}\")"
   ]
  }
 ],
 "metadata": {
  "kernelspec": {
   "display_name": "transformers",
   "language": "python",
   "name": "python3"
  },
  "language_info": {
   "codemirror_mode": {
    "name": "ipython",
    "version": 3
   },
   "file_extension": ".py",
   "mimetype": "text/x-python",
   "name": "python",
   "nbconvert_exporter": "python",
   "pygments_lexer": "ipython3",
   "version": "3.12.3"
  }
 },
 "nbformat": 4,
 "nbformat_minor": 2
}
