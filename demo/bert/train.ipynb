{
 "cells": [
  {
   "cell_type": "code",
   "execution_count": 1,
   "metadata": {},
   "outputs": [
    {
     "name": "stderr",
     "output_type": "stream",
     "text": [
      "/home/kjqw/.conda/envs/transformers/lib/python3.12/site-packages/tqdm/auto.py:21: TqdmWarning: IProgress not found. Please update jupyter and ipywidgets. See https://ipywidgets.readthedocs.io/en/stable/user_install.html\n",
      "  from .autonotebook import tqdm as notebook_tqdm\n"
     ]
    }
   ],
   "source": [
    "import pickle\n",
    "from pathlib import Path\n",
    "\n",
    "import pandas as pd\n",
    "import torch\n",
    "from sklearn.metrics import accuracy_score\n",
    "from sklearn.model_selection import train_test_split\n",
    "from sklearn.preprocessing import LabelEncoder\n",
    "from torch.utils.data import Dataset\n",
    "from transformers import (\n",
    "    BertForSequenceClassification,\n",
    "    BertTokenizer,\n",
    "    Trainer,\n",
    "    TrainingArguments,\n",
    ")"
   ]
  },
  {
   "cell_type": "code",
   "execution_count": 2,
   "metadata": {},
   "outputs": [],
   "source": [
    "# パスの管理\n",
    "data_path = Path(\"data/data_long_texts.tsv\")\n",
    "satisfaction_model_path = Path(\"data/satisfaction_model\")\n",
    "label_model_path = Path(\"data/label_model\")\n",
    "\n",
    "# モデルの選択\n",
    "MODEL_NAME = \"cl-tohoku/bert-base-japanese-v3\"\n",
    "# MODEL_NAME = \"google-bert/bert-base-multilingual-cased\""
   ]
  },
  {
   "cell_type": "code",
   "execution_count": 3,
   "metadata": {},
   "outputs": [],
   "source": [
    "# データの読み込み\n",
    "data = pd.read_csv(data_path, sep=\"\\t\")\n",
    "\n",
    "# 満足度のエンコード（0: 不満, 1: 満足）\n",
    "data[\"満足度\"] = data[\"満足度\"].map({\"不満\": 0, \"満足\": 1})\n",
    "\n",
    "# データを訓練データとテストデータに分割\n",
    "train_data, test_data = train_test_split(data, test_size=0.2)\n",
    "\n",
    "# デバイスの設定\n",
    "device = torch.device(\"cuda\") if torch.cuda.is_available() else torch.device(\"cpu\")"
   ]
  },
  {
   "cell_type": "code",
   "execution_count": 4,
   "metadata": {},
   "outputs": [
    {
     "name": "stderr",
     "output_type": "stream",
     "text": [
      "The tokenizer class you load from this checkpoint is not the same type as the class this function is called from. It may result in unexpected tokenization. \n",
      "The tokenizer class you load from this checkpoint is 'BertJapaneseTokenizer'. \n",
      "The class this function is called from is 'BertTokenizer'.\n",
      "Some weights of BertForSequenceClassification were not initialized from the model checkpoint at cl-tohoku/bert-base-japanese-v3 and are newly initialized: ['classifier.bias', 'classifier.weight']\n",
      "You should probably TRAIN this model on a down-stream task to be able to use it for predictions and inference.\n",
      "Some weights of BertForSequenceClassification were not initialized from the model checkpoint at cl-tohoku/bert-base-japanese-v3 and are newly initialized: ['classifier.bias', 'classifier.weight']\n",
      "You should probably TRAIN this model on a down-stream task to be able to use it for predictions and inference.\n"
     ]
    },
    {
     "data": {
      "text/plain": [
       "BertForSequenceClassification(\n",
       "  (bert): BertModel(\n",
       "    (embeddings): BertEmbeddings(\n",
       "      (word_embeddings): Embedding(32768, 768, padding_idx=0)\n",
       "      (position_embeddings): Embedding(512, 768)\n",
       "      (token_type_embeddings): Embedding(2, 768)\n",
       "      (LayerNorm): LayerNorm((768,), eps=1e-12, elementwise_affine=True)\n",
       "      (dropout): Dropout(p=0.1, inplace=False)\n",
       "    )\n",
       "    (encoder): BertEncoder(\n",
       "      (layer): ModuleList(\n",
       "        (0-11): 12 x BertLayer(\n",
       "          (attention): BertAttention(\n",
       "            (self): BertSdpaSelfAttention(\n",
       "              (query): Linear(in_features=768, out_features=768, bias=True)\n",
       "              (key): Linear(in_features=768, out_features=768, bias=True)\n",
       "              (value): Linear(in_features=768, out_features=768, bias=True)\n",
       "              (dropout): Dropout(p=0.1, inplace=False)\n",
       "            )\n",
       "            (output): BertSelfOutput(\n",
       "              (dense): Linear(in_features=768, out_features=768, bias=True)\n",
       "              (LayerNorm): LayerNorm((768,), eps=1e-12, elementwise_affine=True)\n",
       "              (dropout): Dropout(p=0.1, inplace=False)\n",
       "            )\n",
       "          )\n",
       "          (intermediate): BertIntermediate(\n",
       "            (dense): Linear(in_features=768, out_features=3072, bias=True)\n",
       "            (intermediate_act_fn): GELUActivation()\n",
       "          )\n",
       "          (output): BertOutput(\n",
       "            (dense): Linear(in_features=3072, out_features=768, bias=True)\n",
       "            (LayerNorm): LayerNorm((768,), eps=1e-12, elementwise_affine=True)\n",
       "            (dropout): Dropout(p=0.1, inplace=False)\n",
       "          )\n",
       "        )\n",
       "      )\n",
       "    )\n",
       "    (pooler): BertPooler(\n",
       "      (dense): Linear(in_features=768, out_features=768, bias=True)\n",
       "      (activation): Tanh()\n",
       "    )\n",
       "  )\n",
       "  (dropout): Dropout(p=0.1, inplace=False)\n",
       "  (classifier): Linear(in_features=768, out_features=16, bias=True)\n",
       ")"
      ]
     },
     "execution_count": 4,
     "metadata": {},
     "output_type": "execute_result"
    }
   ],
   "source": [
    "# モデルとトークナイザーのロード\n",
    "tokenizer = BertTokenizer.from_pretrained(MODEL_NAME)\n",
    "\n",
    "# 満足度分類モデルのロード\n",
    "satisfaction_model = BertForSequenceClassification.from_pretrained(\n",
    "    MODEL_NAME, num_labels=2\n",
    ")\n",
    "satisfaction_model.to(device)  # モデルをデバイスに移動\n",
    "\n",
    "# ラベルのエンコード\n",
    "label_encoder = LabelEncoder()\n",
    "data[\"ラベル\"] = label_encoder.fit_transform(data[\"ラベル\"])\n",
    "num_labels = len(label_encoder.classes_)\n",
    "\n",
    "# ラベル分類モデルのロード\n",
    "label_model = BertForSequenceClassification.from_pretrained(\n",
    "    MODEL_NAME, num_labels=num_labels\n",
    ")\n",
    "label_model.to(device)  # モデルをデバイスに移動"
   ]
  },
  {
   "cell_type": "code",
   "execution_count": 5,
   "metadata": {},
   "outputs": [],
   "source": [
    "# データセットクラスの作成\n",
    "class CustomDataset(Dataset):\n",
    "    \"\"\"\n",
    "    データセットクラス\n",
    "\n",
    "    Parameters\n",
    "    ----------\n",
    "    encodings : dict\n",
    "        エンコーディングされたデータ\n",
    "    labels : list\n",
    "        ラベルのリスト\n",
    "\n",
    "    Returns\n",
    "    -------\n",
    "    item : dict\n",
    "        エンコーディングされたデータとラベルのペア\n",
    "    \"\"\"\n",
    "\n",
    "    def __init__(self, encodings, labels):\n",
    "        self.encodings = encodings\n",
    "        self.labels = labels\n",
    "\n",
    "    def __getitem__(self, idx):\n",
    "        item = {key: torch.tensor(val[idx]) for key, val in self.encodings.items()}\n",
    "        item[\"labels\"] = torch.tensor(self.labels[idx])\n",
    "        return item\n",
    "\n",
    "    def __len__(self):\n",
    "        return len(self.labels)\n",
    "\n",
    "\n",
    "# データの前処理\n",
    "def preprocess_data(data: pd.DataFrame, label_col: str) -> tuple:\n",
    "    \"\"\"\n",
    "    データの前処理\n",
    "\n",
    "    Parameters\n",
    "    ----------\n",
    "    data : pd.DataFrame\n",
    "        データ\n",
    "    label_col : str\n",
    "        ラベルのカラム名\n",
    "\n",
    "    Returns\n",
    "    -------\n",
    "    encodings : dict\n",
    "        エンコーディングされたデータ\n",
    "    labels : list\n",
    "        ラベルのリスト\n",
    "    \"\"\"\n",
    "\n",
    "    encodings = tokenizer(\n",
    "        data[\"文章\"].tolist(),\n",
    "        truncation=True,\n",
    "        padding=True,\n",
    "        max_length=128,\n",
    "        return_tensors=\"pt\",\n",
    "    )\n",
    "    labels = data[label_col].tolist()\n",
    "    return encodings, labels"
   ]
  },
  {
   "cell_type": "code",
   "execution_count": 6,
   "metadata": {},
   "outputs": [],
   "source": [
    "# 満足度分類用データセットの作成\n",
    "satisfaction_encodings, satisfaction_labels = preprocess_data(data, \"満足度\")\n",
    "satisfaction_dataset = CustomDataset(satisfaction_encodings, satisfaction_labels)\n",
    "\n",
    "# ラベル分類用データセットの作成\n",
    "label_encodings, label_labels = preprocess_data(data, \"ラベル\")\n",
    "label_dataset = CustomDataset(label_encodings, label_labels)"
   ]
  },
  {
   "cell_type": "code",
   "execution_count": 7,
   "metadata": {},
   "outputs": [],
   "source": [
    "# 評価指標の計算関数\n",
    "def compute_metrics(pred):\n",
    "    labels = pred.label_ids\n",
    "    preds = pred.predictions.argmax(-1)\n",
    "    acc = accuracy_score(labels, preds)\n",
    "    return {\"accuracy\": acc}"
   ]
  },
  {
   "cell_type": "code",
   "execution_count": 8,
   "metadata": {},
   "outputs": [],
   "source": [
    "# トレーニング引数の設定\n",
    "train_args = TrainingArguments(\n",
    "    output_dir=\"./results\",\n",
    "    num_train_epochs=3,\n",
    "    per_device_train_batch_size=8,\n",
    "    per_device_eval_batch_size=8,\n",
    "    warmup_steps=500,\n",
    "    weight_decay=0.01,\n",
    ")"
   ]
  },
  {
   "cell_type": "code",
   "execution_count": 9,
   "metadata": {},
   "outputs": [],
   "source": [
    "# 満足度分類モデルのトレーナーの作成\n",
    "satisfaction_trainer = Trainer(\n",
    "    model=satisfaction_model,\n",
    "    args=train_args,\n",
    "    train_dataset=satisfaction_dataset,\n",
    "    eval_dataset=satisfaction_dataset,\n",
    "    compute_metrics=compute_metrics,\n",
    ")"
   ]
  },
  {
   "cell_type": "code",
   "execution_count": 10,
   "metadata": {},
   "outputs": [
    {
     "name": "stderr",
     "output_type": "stream",
     "text": [
      "/tmp/ipykernel_35931/1952686614.py:24: UserWarning: To copy construct from a tensor, it is recommended to use sourceTensor.clone().detach() or sourceTensor.clone().detach().requires_grad_(True), rather than torch.tensor(sourceTensor).\n",
      "  item = {key: torch.tensor(val[idx]) for key, val in self.encodings.items()}\n"
     ]
    },
    {
     "data": {
      "text/html": [
       "\n",
       "    <div>\n",
       "      \n",
       "      <progress value='276' max='276' style='width:300px; height:20px; vertical-align: middle;'></progress>\n",
       "      [276/276 00:26, Epoch 3/3]\n",
       "    </div>\n",
       "    <table border=\"1\" class=\"dataframe\">\n",
       "  <thead>\n",
       " <tr style=\"text-align: left;\">\n",
       "      <th>Step</th>\n",
       "      <th>Training Loss</th>\n",
       "    </tr>\n",
       "  </thead>\n",
       "  <tbody>\n",
       "  </tbody>\n",
       "</table><p>"
      ],
      "text/plain": [
       "<IPython.core.display.HTML object>"
      ]
     },
     "metadata": {},
     "output_type": "display_data"
    },
    {
     "data": {
      "text/plain": [
       "TrainOutput(global_step=276, training_loss=0.48487439362899115, metrics={'train_runtime': 27.1161, 'train_samples_per_second': 80.874, 'train_steps_per_second': 10.178, 'total_flos': 144250636101120.0, 'train_loss': 0.48487439362899115, 'epoch': 3.0})"
      ]
     },
     "execution_count": 10,
     "metadata": {},
     "output_type": "execute_result"
    }
   ],
   "source": [
    "# 満足度分類モデルのトレーニング\n",
    "satisfaction_trainer.train()"
   ]
  },
  {
   "cell_type": "code",
   "execution_count": 11,
   "metadata": {},
   "outputs": [],
   "source": [
    "# モデルの保存\n",
    "satisfaction_trainer.save_model(satisfaction_model_path)"
   ]
  },
  {
   "cell_type": "code",
   "execution_count": 12,
   "metadata": {},
   "outputs": [],
   "source": [
    "# ラベル分類モデルのトレーナーの作成\n",
    "label_trainer = Trainer(\n",
    "    model=label_model,\n",
    "    args=train_args,\n",
    "    train_dataset=label_dataset,\n",
    "    eval_dataset=label_dataset,\n",
    "    compute_metrics=compute_metrics,\n",
    ")"
   ]
  },
  {
   "cell_type": "code",
   "execution_count": 13,
   "metadata": {},
   "outputs": [
    {
     "name": "stderr",
     "output_type": "stream",
     "text": [
      "/tmp/ipykernel_35931/1952686614.py:24: UserWarning: To copy construct from a tensor, it is recommended to use sourceTensor.clone().detach() or sourceTensor.clone().detach().requires_grad_(True), rather than torch.tensor(sourceTensor).\n",
      "  item = {key: torch.tensor(val[idx]) for key, val in self.encodings.items()}\n"
     ]
    },
    {
     "data": {
      "text/html": [
       "\n",
       "    <div>\n",
       "      \n",
       "      <progress value='276' max='276' style='width:300px; height:20px; vertical-align: middle;'></progress>\n",
       "      [276/276 00:26, Epoch 3/3]\n",
       "    </div>\n",
       "    <table border=\"1\" class=\"dataframe\">\n",
       "  <thead>\n",
       " <tr style=\"text-align: left;\">\n",
       "      <th>Step</th>\n",
       "      <th>Training Loss</th>\n",
       "    </tr>\n",
       "  </thead>\n",
       "  <tbody>\n",
       "  </tbody>\n",
       "</table><p>"
      ],
      "text/plain": [
       "<IPython.core.display.HTML object>"
      ]
     },
     "metadata": {},
     "output_type": "display_data"
    },
    {
     "data": {
      "text/plain": [
       "TrainOutput(global_step=276, training_loss=1.9978533758633379, metrics={'train_runtime': 27.0918, 'train_samples_per_second': 80.947, 'train_steps_per_second': 10.188, 'total_flos': 144268768456704.0, 'train_loss': 1.9978533758633379, 'epoch': 3.0})"
      ]
     },
     "execution_count": 13,
     "metadata": {},
     "output_type": "execute_result"
    }
   ],
   "source": [
    "# ラベル分類モデルのトレーニング\n",
    "label_trainer.train()"
   ]
  },
  {
   "cell_type": "code",
   "execution_count": 14,
   "metadata": {},
   "outputs": [],
   "source": [
    "# モデルの保存\n",
    "label_trainer.save_model(label_model_path)"
   ]
  },
  {
   "cell_type": "code",
   "execution_count": 15,
   "metadata": {},
   "outputs": [],
   "source": [
    "# テストデータの準備\n",
    "test_texts = test_data[\"文章\"].tolist()\n",
    "test_satisfactions = [\"満足\" if i == 1 else \"不満\" for i in test_data[\"満足度\"]]\n",
    "test_labels = test_data[\"ラベル\"].tolist()\n",
    "\n",
    "# テストデータのトークナイズ\n",
    "test_encodings = tokenizer(\n",
    "    test_texts, truncation=True, padding=True, return_tensors=\"pt\"\n",
    ").to(device)\n",
    "\n",
    "# モデルを評価モードに設定\n",
    "satisfaction_model.eval()\n",
    "label_model.eval()\n",
    "\n",
    "# 予測の取得\n",
    "with torch.no_grad():\n",
    "    satisfaction_outputs = satisfaction_model(**test_encodings)\n",
    "    satisfaction_preds = torch.argmax(satisfaction_outputs.logits, dim=1).cpu().numpy()\n",
    "\n",
    "    label_outputs = label_model(**test_encodings)\n",
    "    label_preds = torch.argmax(label_outputs.logits, dim=1).cpu().numpy()\n",
    "\n",
    "# 数値から文字列に変換\n",
    "label_result = label_encoder.inverse_transform(label_preds).tolist()\n",
    "satisfaction_result = [\"満足\" if pred == 1 else \"不満\" for pred in satisfaction_preds]"
   ]
  },
  {
   "cell_type": "code",
   "execution_count": 16,
   "metadata": {},
   "outputs": [],
   "source": [
    "df_compare_test_data = pd.DataFrame(\n",
    "    {\n",
    "        \"満足度\": test_satisfactions,\n",
    "        \"満足度予測\": satisfaction_result,\n",
    "        \"満足度一致\": [i == j for i, j in zip(test_satisfactions, satisfaction_result)],\n",
    "        \"ラベル\": test_labels,\n",
    "        \"ラベル予測\": label_result,\n",
    "        \"ラベル一致\": [i == j for i, j in zip(test_labels, label_result)],\n",
    "        \"文章\": test_texts,\n",
    "    }\n",
    ")"
   ]
  },
  {
   "cell_type": "code",
   "execution_count": 17,
   "metadata": {},
   "outputs": [
    {
     "data": {
      "text/html": [
       "<div>\n",
       "<style scoped>\n",
       "    .dataframe tbody tr th:only-of-type {\n",
       "        vertical-align: middle;\n",
       "    }\n",
       "\n",
       "    .dataframe tbody tr th {\n",
       "        vertical-align: top;\n",
       "    }\n",
       "\n",
       "    .dataframe thead th {\n",
       "        text-align: right;\n",
       "    }\n",
       "</style>\n",
       "<table border=\"1\" class=\"dataframe\">\n",
       "  <thead>\n",
       "    <tr style=\"text-align: right;\">\n",
       "      <th></th>\n",
       "      <th>満足度</th>\n",
       "      <th>満足度予測</th>\n",
       "      <th>満足度一致</th>\n",
       "      <th>ラベル</th>\n",
       "      <th>ラベル予測</th>\n",
       "      <th>ラベル一致</th>\n",
       "      <th>文章</th>\n",
       "    </tr>\n",
       "  </thead>\n",
       "  <tbody>\n",
       "    <tr>\n",
       "      <th>0</th>\n",
       "      <td>満足</td>\n",
       "      <td>満足</td>\n",
       "      <td>True</td>\n",
       "      <td>買物・飲食</td>\n",
       "      <td>買物・飲食</td>\n",
       "      <td>True</td>\n",
       "      <td>ほとんどの飲食チェーン店がある、ノクティ内ならノクティﾎﾟｲﾝﾄも付いてお得</td>\n",
       "    </tr>\n",
       "    <tr>\n",
       "      <th>1</th>\n",
       "      <td>満足</td>\n",
       "      <td>満足</td>\n",
       "      <td>True</td>\n",
       "      <td>買物・飲食</td>\n",
       "      <td>買物・飲食</td>\n",
       "      <td>True</td>\n",
       "      <td>自宅から５分以内にスーパーうあ個人商店が立ち並んでいる。</td>\n",
       "    </tr>\n",
       "    <tr>\n",
       "      <th>2</th>\n",
       "      <td>満足</td>\n",
       "      <td>満足</td>\n",
       "      <td>True</td>\n",
       "      <td>移動・交通</td>\n",
       "      <td>移動・交通</td>\n",
       "      <td>True</td>\n",
       "      <td>駅やバス停に近く、タクシー等もつかまえやすい</td>\n",
       "    </tr>\n",
       "    <tr>\n",
       "      <th>3</th>\n",
       "      <td>満足</td>\n",
       "      <td>満足</td>\n",
       "      <td>True</td>\n",
       "      <td>自然災害</td>\n",
       "      <td>自然災害</td>\n",
       "      <td>True</td>\n",
       "      <td>山崩れ・土砂崩れ、水害等の 災害を心配なくてよい。</td>\n",
       "    </tr>\n",
       "    <tr>\n",
       "      <th>4</th>\n",
       "      <td>不満</td>\n",
       "      <td>不満</td>\n",
       "      <td>True</td>\n",
       "      <td>デジタル生活</td>\n",
       "      <td>地域行政</td>\n",
       "      <td>False</td>\n",
       "      <td>市が率先して、デジタル生活を推し進める施策をしてほしい</td>\n",
       "    </tr>\n",
       "    <tr>\n",
       "      <th>...</th>\n",
       "      <td>...</td>\n",
       "      <td>...</td>\n",
       "      <td>...</td>\n",
       "      <td>...</td>\n",
       "      <td>...</td>\n",
       "      <td>...</td>\n",
       "      <td>...</td>\n",
       "    </tr>\n",
       "    <tr>\n",
       "      <th>142</th>\n",
       "      <td>不満</td>\n",
       "      <td>不満</td>\n",
       "      <td>True</td>\n",
       "      <td>住宅環境</td>\n",
       "      <td>住宅環境</td>\n",
       "      <td>True</td>\n",
       "      <td>一戸建てを購入したいので、良い住宅環境を望みます</td>\n",
       "    </tr>\n",
       "    <tr>\n",
       "      <th>143</th>\n",
       "      <td>不満</td>\n",
       "      <td>不満</td>\n",
       "      <td>True</td>\n",
       "      <td>移動・交通</td>\n",
       "      <td>移動・交通</td>\n",
       "      <td>True</td>\n",
       "      <td>とにかく道路の舗装や道路標示の質が悪すぎる。</td>\n",
       "    </tr>\n",
       "    <tr>\n",
       "      <th>144</th>\n",
       "      <td>不満</td>\n",
       "      <td>不満</td>\n",
       "      <td>True</td>\n",
       "      <td>医療・福祉</td>\n",
       "      <td>医療・福祉</td>\n",
       "      <td>True</td>\n",
       "      <td>病院、特に発熱外来など東京などに比べすぐに対応できるところが少ない。コロナ禍の時に感じました。</td>\n",
       "    </tr>\n",
       "    <tr>\n",
       "      <th>145</th>\n",
       "      <td>満足</td>\n",
       "      <td>満足</td>\n",
       "      <td>True</td>\n",
       "      <td>住宅環境</td>\n",
       "      <td>移動・交通</td>\n",
       "      <td>False</td>\n",
       "      <td>第二東名などの交通整備が進み、車での移動が楽。近隣市町村でのショッピングにも事欠かない。</td>\n",
       "    </tr>\n",
       "    <tr>\n",
       "      <th>146</th>\n",
       "      <td>満足</td>\n",
       "      <td>満足</td>\n",
       "      <td>True</td>\n",
       "      <td>自然景観</td>\n",
       "      <td>自然景観</td>\n",
       "      <td>True</td>\n",
       "      <td>海、山があり自然を身近に感じられます。夜にたまにふくろうの鳴き声が聞こえる時もありますね。</td>\n",
       "    </tr>\n",
       "  </tbody>\n",
       "</table>\n",
       "<p>147 rows × 7 columns</p>\n",
       "</div>"
      ],
      "text/plain": [
       "    満足度 満足度予測  満足度一致     ラベル  ラベル予測  ラベル一致  \\\n",
       "0    満足    満足   True   買物・飲食  買物・飲食   True   \n",
       "1    満足    満足   True   買物・飲食  買物・飲食   True   \n",
       "2    満足    満足   True   移動・交通  移動・交通   True   \n",
       "3    満足    満足   True    自然災害   自然災害   True   \n",
       "4    不満    不満   True  デジタル生活   地域行政  False   \n",
       "..   ..   ...    ...     ...    ...    ...   \n",
       "142  不満    不満   True    住宅環境   住宅環境   True   \n",
       "143  不満    不満   True   移動・交通  移動・交通   True   \n",
       "144  不満    不満   True   医療・福祉  医療・福祉   True   \n",
       "145  満足    満足   True    住宅環境  移動・交通  False   \n",
       "146  満足    満足   True    自然景観   自然景観   True   \n",
       "\n",
       "                                                  文章  \n",
       "0             ほとんどの飲食チェーン店がある、ノクティ内ならノクティﾎﾟｲﾝﾄも付いてお得  \n",
       "1                       自宅から５分以内にスーパーうあ個人商店が立ち並んでいる。  \n",
       "2                             駅やバス停に近く、タクシー等もつかまえやすい  \n",
       "3                          山崩れ・土砂崩れ、水害等の 災害を心配なくてよい。  \n",
       "4                        市が率先して、デジタル生活を推し進める施策をしてほしい  \n",
       "..                                               ...  \n",
       "142                         一戸建てを購入したいので、良い住宅環境を望みます  \n",
       "143                           とにかく道路の舗装や道路標示の質が悪すぎる。  \n",
       "144  病院、特に発熱外来など東京などに比べすぐに対応できるところが少ない。コロナ禍の時に感じました。  \n",
       "145     第二東名などの交通整備が進み、車での移動が楽。近隣市町村でのショッピングにも事欠かない。  \n",
       "146    海、山があり自然を身近に感じられます。夜にたまにふくろうの鳴き声が聞こえる時もありますね。  \n",
       "\n",
       "[147 rows x 7 columns]"
      ]
     },
     "execution_count": 17,
     "metadata": {},
     "output_type": "execute_result"
    }
   ],
   "source": [
    "df_compare_test_data"
   ]
  },
  {
   "cell_type": "code",
   "execution_count": 18,
   "metadata": {},
   "outputs": [],
   "source": [
    "with open(\"data/df_compare_test_data.pickle\", \"wb\") as f:\n",
    "    pickle.dump(df_compare_test_data, f)"
   ]
  },
  {
   "cell_type": "code",
   "execution_count": null,
   "metadata": {},
   "outputs": [],
   "source": []
  }
 ],
 "metadata": {
  "kernelspec": {
   "display_name": "transformers",
   "language": "python",
   "name": "python3"
  },
  "language_info": {
   "codemirror_mode": {
    "name": "ipython",
    "version": 3
   },
   "file_extension": ".py",
   "mimetype": "text/x-python",
   "name": "python",
   "nbconvert_exporter": "python",
   "pygments_lexer": "ipython3",
   "version": "3.12.3"
  }
 },
 "nbformat": 4,
 "nbformat_minor": 2
}
