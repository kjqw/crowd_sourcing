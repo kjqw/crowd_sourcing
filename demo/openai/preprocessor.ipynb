{
 "cells": [
  {
   "cell_type": "code",
   "execution_count": null,
   "metadata": {},
   "outputs": [],
   "source": [
    "import pickle\n",
    "\n",
    "import pandas as pd"
   ]
  },
  {
   "cell_type": "code",
   "execution_count": null,
   "metadata": {},
   "outputs": [],
   "source": [
    "# データの読み込み\n",
    "df = pd.read_csv(\"./data/data_without_nan.tsv\", sep=\"\\t\")\n",
    "df"
   ]
  },
  {
   "cell_type": "code",
   "execution_count": null,
   "metadata": {},
   "outputs": [],
   "source": [
    "# ある長さ以上の文章のみを抽出し、バッチサイズごとにデータを分割して保存する\n",
    "\n",
    "# 最低限の文字列の長さを設定\n",
    "min_length = 20\n",
    "# バッチサイズを設定\n",
    "batch_size = 64\n",
    "\n",
    "# \"文章\"列の中身の長さがmin_length以上のデータを抽出\n",
    "long_texts_df = df[df[\"文章\"].str.len() >= min_length].copy()\n",
    "\n",
    "# \"満足度\"列の値を変換\n",
    "long_texts_df.loc[:, \"満足度\"] = long_texts_df[\"満足度\"].apply(\n",
    "    lambda x: -1 if x == -0.5 else 1 if x == 0.5 else x\n",
    ")\n",
    "\n",
    "# # \"満足度\"の列の値が1なら\"満足\"、-1なら\"不満\"としてラベルを付与\n",
    "# long_texts_df.loc[:, \"満足度\"] = long_texts_df[\"満足度\"].apply(\n",
    "#     lambda x: \"満足\" if x == 1 else \"不満\"\n",
    "# )\n",
    "\n",
    "# バッチサイズごとにデータを分割\n",
    "df_batches = [\n",
    "    long_texts_df[i : i + batch_size] for i in range(0, len(long_texts_df), batch_size)\n",
    "]\n",
    "\n",
    "print(f\"元のデータの行数: {len(df)}\")\n",
    "print(f\"{min_length}文字以上のデータの行数: {len(long_texts_df)}\")"
   ]
  },
  {
   "cell_type": "code",
   "execution_count": null,
   "metadata": {},
   "outputs": [],
   "source": [
    "long_texts_df\n",
    "# df_batches[0]"
   ]
  },
  {
   "cell_type": "code",
   "execution_count": null,
   "metadata": {},
   "outputs": [],
   "source": [
    "# 保存\n",
    "with open(\"./data/df_batches.pkl\", \"wb\") as f:\n",
    "    pickle.dump(df_batches, f)"
   ]
  },
  {
   "cell_type": "code",
   "execution_count": null,
   "metadata": {},
   "outputs": [],
   "source": [
    "# 正解データを辞書型で保存\n",
    "\n",
    "long_texts_df[\"満足度\"] = long_texts_df[\"満足度\"].astype(str)\n",
    "# \"満足度\"の列の値が1なら\"満足\"、-1なら\"不満\"としてラベルを付与\n",
    "long_texts_df.loc[:, \"満足度\"] = (\n",
    "    long_texts_df[\"満足度\"].apply(lambda x: \"満足\" if x == \"1.0\" else \"不満\")\n",
    ")\n",
    "original_data_dict = {\n",
    "    index: {\"label\": row[\"ラベル\"], \"sentiment\": row[\"満足度\"], \"text\": row[\"文章\"]}\n",
    "    for index, row in long_texts_df.iterrows()\n",
    "}\n",
    "# original_data_dict"
   ]
  },
  {
   "cell_type": "code",
   "execution_count": null,
   "metadata": {},
   "outputs": [],
   "source": [
    "# 保存\n",
    "with open(\"./data/original_data_dict.pkl\", \"wb\") as f:\n",
    "    pickle.dump(original_data_dict, f)"
   ]
  }
 ],
 "metadata": {
  "kernelspec": {
   "display_name": "transformers",
   "language": "python",
   "name": "python3"
  },
  "language_info": {
   "codemirror_mode": {
    "name": "ipython",
    "version": 3
   },
   "file_extension": ".py",
   "mimetype": "text/x-python",
   "name": "python",
   "nbconvert_exporter": "python",
   "pygments_lexer": "ipython3",
   "version": "3.1.-1"
  }
 },
 "nbformat": 4,
 "nbformat_minor": 2
}
