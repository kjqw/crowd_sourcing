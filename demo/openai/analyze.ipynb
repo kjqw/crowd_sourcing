{
 "cells": [
  {
   "cell_type": "code",
   "execution_count": null,
   "metadata": {},
   "outputs": [],
   "source": [
    "import pickle\n",
    "\n",
    "import pandas as pd"
   ]
  },
  {
   "cell_type": "code",
   "execution_count": null,
   "metadata": {},
   "outputs": [],
   "source": [
    "# 使用するモデルの設定\n",
    "MODEL_NAME = \"gpt-3.5-turbo\"\n",
    "\n",
    "# 文章データの最小文字数\n",
    "# min_length = 10\n",
    "min_length = 20"
   ]
  },
  {
   "cell_type": "code",
   "execution_count": null,
   "metadata": {},
   "outputs": [],
   "source": [
    "with open(f\"data/df_compare_{MODEL_NAME}_{min_length}.pickle\", \"rb\") as f:\n",
    "    df_compare = pickle.load(f)"
   ]
  },
  {
   "cell_type": "code",
   "execution_count": null,
   "metadata": {},
   "outputs": [],
   "source": [
    "df_compare"
   ]
  },
  {
   "cell_type": "code",
   "execution_count": null,
   "metadata": {},
   "outputs": [],
   "source": [
    "from collections import Counter\n",
    "\n",
    "import japanize_matplotlib\n",
    "import matplotlib.pyplot as plt"
   ]
  },
  {
   "cell_type": "code",
   "execution_count": null,
   "metadata": {},
   "outputs": [],
   "source": [
    "# ラベルごとのデータ数をカウント\n",
    "label_counts = Counter(df_compare[\"label\"])\n",
    "# ラベルごとの一致数をカウント\n",
    "label_correct_counts = Counter(df_compare[df_compare[\"is_match_label\"]][\"label\"])\n",
    "# ラベルが他のラベルに予測された数をカウント\n",
    "label_misclassified_as_other_counts = Counter(\n",
    "    df_compare[~df_compare[\"is_match_label\"]][\"label\"]\n",
    ")\n",
    "# 他のラベルがラベルに予測された数をカウント\n",
    "label_other_misclassified_as_label_counts = Counter(\n",
    "    df_compare[~df_compare[\"is_match_label\"]][\"label_prediction\"]\n",
    ")\n",
    "\n",
    "labels = sorted(label_counts.keys())\n",
    "\n",
    "original_counts = [label_counts[label] for label in labels]\n",
    "correct_counts = [label_correct_counts.get(label, 0) for label in labels]\n",
    "misclassified_as_other_counts = [\n",
    "    label_misclassified_as_other_counts.get(label, 0) for label in labels\n",
    "]\n",
    "other_misclassified_as_label_counts = [\n",
    "    label_other_misclassified_as_label_counts.get(label, 0) for label in labels\n",
    "]\n",
    "\n",
    "# ラベルを元のラベル数でソート\n",
    "sorted_labels = sorted(\n",
    "    label_counts.keys(), key=lambda label: label_counts[label], reverse=True\n",
    ")\n",
    "\n",
    "sorted_original_counts = [label_counts[label] for label in sorted_labels]\n",
    "sorted_correct_counts = [label_correct_counts.get(label, 0) for label in sorted_labels]\n",
    "sorted_misclassified_as_other_counts = [\n",
    "    label_misclassified_as_other_counts.get(label, 0) for label in sorted_labels\n",
    "]\n",
    "sorted_other_misclassified_as_label_counts = [\n",
    "    label_other_misclassified_as_label_counts.get(label, 0) for label in sorted_labels\n",
    "]\n",
    "\n",
    "x = range(len(sorted_labels))\n",
    "\n",
    "# プロットの作成\n",
    "fig_sorted, ax_sorted = plt.subplots(figsize=(10, 6))\n",
    "\n",
    "bar_width = 0.2\n",
    "\n",
    "# もともとのラベルのデータ数\n",
    "ax_sorted.bar(\n",
    "    x,\n",
    "    sorted_original_counts,\n",
    "    bar_width,\n",
    "    label=\"元のラベル数\",\n",
    "    align=\"center\",\n",
    "    color=\"tab:blue\",\n",
    "    hatch=\"//\",\n",
    ")\n",
    "# もとのラベルとラベル予測が一致したデータ数\n",
    "ax_sorted.bar(\n",
    "    [i + bar_width for i in x],\n",
    "    sorted_correct_counts,\n",
    "    bar_width,\n",
    "    label=\"予測の一致数\",\n",
    "    align=\"center\",\n",
    "    color=\"tab:green\",\n",
    "    hatch=\"-\",\n",
    ")\n",
    "# もとのラベルに他のラベルが予測されたデータ数\n",
    "ax_sorted.bar(\n",
    "    [i + 2 * bar_width for i in x],\n",
    "    sorted_misclassified_as_other_counts,\n",
    "    bar_width,\n",
    "    label=\"他のラベルとして予測された数\",\n",
    "    align=\"center\",\n",
    "    color=\"tab:red\",\n",
    "    hatch=\"+\",\n",
    ")\n",
    "# 他のラベルがラベルに予測されたデータ数\n",
    "ax_sorted.bar(\n",
    "    [i + 3 * bar_width for i in x],\n",
    "    sorted_other_misclassified_as_label_counts,\n",
    "    bar_width,\n",
    "    label=\"他のラベルから予測された数\",\n",
    "    align=\"center\",\n",
    "    color=\"tab:orange\",\n",
    "    hatch=\"x\",\n",
    ")\n",
    "\n",
    "ax_sorted.set_xlabel(\"ラベル\")\n",
    "ax_sorted.set_ylabel(\"件数\")\n",
    "# ax_sorted.set_title(\"ラベルごとの分類結果\")\n",
    "ax_sorted.set_xticks([i + 1.5 * bar_width for i in x])\n",
    "ax_sorted.set_xticklabels(sorted_labels, rotation=90)\n",
    "ax_sorted.legend()\n",
    "\n",
    "plt.tight_layout()\n",
    "plt.show()"
   ]
  },
  {
   "cell_type": "code",
   "execution_count": null,
   "metadata": {},
   "outputs": [],
   "source": [
    "fig_sorted.savefig(f\"data/LabelClassificationResult_{MODEL_NAME}_{min_length}.png\")"
   ]
  },
  {
   "cell_type": "code",
   "execution_count": null,
   "metadata": {},
   "outputs": [],
   "source": []
  }
 ],
 "metadata": {
  "kernelspec": {
   "display_name": "transformers",
   "language": "python",
   "name": "python3"
  },
  "language_info": {
   "codemirror_mode": {
    "name": "ipython",
    "version": 3
   },
   "file_extension": ".py",
   "mimetype": "text/x-python",
   "name": "python",
   "nbconvert_exporter": "python",
   "pygments_lexer": "ipython3",
   "version": "3.12.3"
  }
 },
 "nbformat": 4,
 "nbformat_minor": 2
}
