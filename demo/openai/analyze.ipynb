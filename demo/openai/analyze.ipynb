{
 "cells": [
  {
   "cell_type": "code",
   "execution_count": null,
   "metadata": {},
   "outputs": [],
   "source": [
    "import pickle\n",
    "\n",
    "import pandas as pd"
   ]
  },
  {
   "cell_type": "code",
   "execution_count": null,
   "metadata": {},
   "outputs": [],
   "source": [
    "with open(\"./data/df_compare.pkl\", \"rb\") as f:\n",
    "    df_compare = pickle.load(f)"
   ]
  },
  {
   "cell_type": "code",
   "execution_count": null,
   "metadata": {},
   "outputs": [],
   "source": [
    "df_compare_original = df_compare.copy()"
   ]
  },
  {
   "cell_type": "code",
   "execution_count": null,
   "metadata": {},
   "outputs": [],
   "source": [
    "# 'original'列の辞書を新しい列に展開\n",
    "df_compare[[\"original_label\", \"original_sentiment\"]] = df_compare[\"original\"].apply(\n",
    "    pd.Series\n",
    ")\n",
    "# 'predicted'列の辞書を新しい列に展開\n",
    "df_compare[[\"predicted_label\", \"predicted_sentiment\"]] = df_compare[\"predicted\"].apply(\n",
    "    pd.Series\n",
    ")\n",
    "# 'original'列と'predicted'列を削除\n",
    "df_compare.drop(columns=[\"original\", \"predicted\"], inplace=True)"
   ]
  },
  {
   "cell_type": "code",
   "execution_count": null,
   "metadata": {},
   "outputs": [],
   "source": [
    "df_compare = df_compare[[\"original_label\", \"original_sentiment\", \"predicted_label\", \"predicted_sentiment\", \"text\"]]"
   ]
  },
  {
   "cell_type": "code",
   "execution_count": null,
   "metadata": {},
   "outputs": [],
   "source": [
    "# ラベルとセンチメントが一致しているかどうかを判定\n",
    "\n",
    "df_compare[\"is_match_label\"] = df_compare[\"original_label\"] == df_compare[\"predicted_label\"]\n",
    "df_compare[\"is_match_sentiment\"] = df_compare[\"original_sentiment\"] == df_compare[\"predicted_sentiment\"]\n",
    "df_compare[\"is_match_all\"] = df_compare[\"is_match_label\"] & df_compare[\"is_match_sentiment\"]\n",
    "\n",
    "num_match_label = df_compare[\"is_match_label\"].sum()\n",
    "num_match_sentiment = df_compare[\"is_match_sentiment\"].sum()\n",
    "num_match_all = df_compare[\"is_match_all\"].sum()\n",
    "num_all = len(df_compare)\n",
    "\n",
    "print(f\"num_all: {num_all}\")\n",
    "print(f\"num_match_label: {num_match_label}\")\n",
    "print(f\"num_match_sentiment: {num_match_sentiment}\")\n",
    "print(f\"num_match_all: {num_match_all}\")"
   ]
  },
  {
   "cell_type": "code",
   "execution_count": null,
   "metadata": {},
   "outputs": [],
   "source": [
    "df_compare"
   ]
  },
  {
   "cell_type": "code",
   "execution_count": null,
   "metadata": {},
   "outputs": [],
   "source": [
    "# 一致していないデータを確認\n",
    "df_compare[~df_compare[\"is_match_label\"]]"
   ]
  },
  {
   "cell_type": "code",
   "execution_count": null,
   "metadata": {},
   "outputs": [],
   "source": [
    "df_compare[~df_compare[\"is_match_sentiment\"]]"
   ]
  },
  {
   "cell_type": "code",
   "execution_count": null,
   "metadata": {},
   "outputs": [],
   "source": []
  }
 ],
 "metadata": {
  "kernelspec": {
   "display_name": "transformers",
   "language": "python",
   "name": "python3"
  },
  "language_info": {
   "codemirror_mode": {
    "name": "ipython",
    "version": 3
   },
   "file_extension": ".py",
   "mimetype": "text/x-python",
   "name": "python",
   "nbconvert_exporter": "python",
   "pygments_lexer": "ipython3",
   "version": "3.1.undefined"
  }
 },
 "nbformat": 4,
 "nbformat_minor": 2
}
